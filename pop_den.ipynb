{
 "cells": [
  {
   "cell_type": "code",
   "execution_count": 3,
   "metadata": {},
   "outputs": [
    {
     "ename": "",
     "evalue": "",
     "output_type": "error",
     "traceback": [
      "\u001b[1;31mCannot execute code, session has been disposed. Please try restarting the Kernel."
     ]
    },
    {
     "ename": "",
     "evalue": "",
     "output_type": "error",
     "traceback": [
      "\u001b[1;31mThe Kernel crashed while executing code in the the current cell or a previous cell. Please review the code in the cell(s) to identify a possible cause of the failure. Click <a href='https://aka.ms/vscodeJupyterKernelCrash'>here</a> for more info. View Jupyter <a href='command:jupyter.viewOutput'>log</a> for further details."
     ]
    }
   ],
   "source": [
    "import rasterio \n",
    "import numpy as np\n",
    "import matplotlib as plt\n",
    "import matplotlib.colors as colors\n",
    "from matplotlib.colors import BoundaryNorm, LinearSegmentedColormap, ListedColormap\n",
    "\n",
    "tif_file = rasterio.open(\"/Users/jakobperivolotis/desktop/Work/popden/POP.tif\")\n",
    "ghs_data=tif_file.read()\n",
    "\n",
    "ourcmap = cm.get_cmap(\"hot_r\", 460)\n",
    "newcolors = ourcmap(np.linspace(0,1,460))\n",
    "background_color = np.array([0.9882352941176471, 0.9647058823529412, 0.9607843137254902, 1.0])\n",
    "newcolors[:1, :] = background_color\n",
    "newcmp = ListedColormap(newcolors)\n",
    "\n",
    "fix, ax = plt.subplots(facecolor='#FCF6F5FF')\n",
    "fig.set_size_inches(14,7)\n",
    "ax.imshow(ghs_data[0], norm=colors.LogNorm(),cmap=newcmp)\n",
    "ax.aixs(\"off\")\n",
    "plt.show \n"
   ]
  },
  {
   "cell_type": "code",
   "execution_count": null,
   "metadata": {},
   "outputs": [],
   "source": []
  }
 ],
 "metadata": {
  "kernelspec": {
   "display_name": "Python 3",
   "language": "python",
   "name": "python3"
  },
  "language_info": {
   "codemirror_mode": {
    "name": "ipython",
    "version": 3
   },
   "file_extension": ".py",
   "mimetype": "text/x-python",
   "name": "python",
   "nbconvert_exporter": "python",
   "pygments_lexer": "ipython3",
   "version": "3.10.11"
  },
  "orig_nbformat": 4
 },
 "nbformat": 4,
 "nbformat_minor": 2
}
