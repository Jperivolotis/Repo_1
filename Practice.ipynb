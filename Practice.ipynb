{
 "cells": [
  {
   "cell_type": "code",
   "execution_count": 10,
   "id": "06ad0e82",
   "metadata": {},
   "outputs": [
    {
     "name": "stdout",
     "output_type": "stream",
     "text": [
      "Circle map is saved to: /Users/jakobperivolotis/desktop/circle_map.html\n"
     ]
    }
   ],
   "source": [
    "#code for plotting circle then finding freqs within circle \n",
    "import pandas as pd\n",
    "import math\n",
    "import folium\n",
    "\n",
    "x = pd.read_csv(\"/Users/jakobperivolotis/Desktop/dataFM/resultsWorld/worldDataCoverage.csv\")\n",
    "\n",
    "\n",
    "\n",
    "\n",
    "\n",
    "def get_cords(latitude, longitude, radius):\n",
    "    R = 6378 \n",
    "    \n",
    "    lat_rads = math.radians(latitude)\n",
    "    lon_rads = math.radians(longitude)\n",
    "    \n",
    "    cent_lat = math.degrees(lat_rads)\n",
    "    cent_lon = math.degrees(lon_rads)\n",
    "    \n",
    "    radius_rads = radius / R\n",
    "    \n",
    "    num_points = 400\n",
    "    circle_points = []\n",
    "    for i in range(num_points):\n",
    "        angle = math.radians(float(i) / num_points*360)\n",
    "        dx = radius_rads * math.cos(angle)\n",
    "        dy = radius_rads * math.sin(angle)\n",
    "        \n",
    "        point_lat = cent_lat + math.degrees(dy)\n",
    "        point_lon = cent_lon + math.degrees(dx)\n",
    "        \n",
    "        circle_points.append((point_lat, point_lon))\n",
    "        \n",
    "        \n",
    "    return circle_points\n",
    "\n",
    "def visualize_circles(cent_lat, cent_lon, radius):\n",
    "\n",
    "    map = folium.Map(location = [circles[0][0], circles[0][1]], zoom_start=10)\n",
    "    \n",
    "    for circle in circles:\n",
    "        cent_lat, cent_lon, radius = circle[0], circle[1], circle[2]\n",
    "\n",
    "    cent_marker = folium.Marker([cent_lat, cent_lon], popup = \"Circle Center\")\n",
    "    map.add_child(cent_marker)\n",
    "\n",
    "    circle_points = get_cords(cent_lat, cent_lon, radius)\n",
    "    for point in circle_points:\n",
    "        circle_marker = folium.CircleMarker(point, radius=point_size, color=\"blue\", fill=True, fill_color=\"blue\")\n",
    "        map.add_child(circle_marker)\n",
    "    \n",
    "    file_path = \"/Users/jakobperivolotis/desktop/\" + \"circle_map.html\"\n",
    "    map.save(file_path)\n",
    "    print(\"Circle map is saved to:\", file_path)\n",
    "    \n",
    "    \n",
    "circles = [(25, -30, 1600), (25, -60, 1600), (30, -30, 1600)]\n",
    "\n",
    "point_size = 1\n",
    "output_directory = \"/Users/jakobperivolotis/desktop/\"\n",
    "\n",
    "visualize_circles(circles, point_size, output_directory)\n",
    "\n",
    "\n",
    "\n"
   ]
  },
  {
   "cell_type": "code",
   "execution_count": 23,
   "id": "e13215ac",
   "metadata": {},
   "outputs": [
    {
     "name": "stdout",
     "output_type": "stream",
     "text": [
      "91499\n"
     ]
    }
   ],
   "source": [
    "#Code for comparing radius and distance from center of circle\n",
    "import geopy\n",
    "import geopy.distance\n",
    "import pandas as pd\n",
    "\n",
    "dx = pd.read_csv(\"/Users/jakobperivolotis/Desktop/dataFM/resultsWorld/worldDataCoverage.csv\")\n",
    "x = dx.iloc[: ,[2, 3]]\n",
    "\n",
    "    \n",
    "def calculate_distance(coord1, coord2):\n",
    "    return geodesic(coord1, coord2).km\n",
    "\n",
    "def filter_coords(origin, coords, radius):\n",
    "    my_list = []\n",
    "    for coordinate in coords:\n",
    "        distance = calculate_distance(origin, coordinate)\n",
    "        if distance < radius:\n",
    "            my_list.append(coordinate)\n",
    "    return my_list\n",
    "\n",
    "if __name__ == \"__main__\":\n",
    "    origin = (30, -30)\n",
    "    coords = list(x.itertuples(index = False, name = None))    \n",
    "    radius = 1600\n",
    "    my_list = filter_coords(origin, coords, radius)\n",
    "    for coordinate in my_list:\n",
    "        print(coordinate)\n",
    "    \n",
    "  "
   ]
  }
 ],
 "metadata": {
  "kernelspec": {
   "display_name": "Python 3 (ipykernel)",
   "language": "python",
   "name": "python3"
  },
  "language_info": {
   "codemirror_mode": {
    "name": "ipython",
    "version": 3
   },
   "file_extension": ".py",
   "mimetype": "text/x-python",
   "name": "python",
   "nbconvert_exporter": "python",
   "pygments_lexer": "ipython3",
   "version": "3.10.11"
  }
 },
 "nbformat": 4,
 "nbformat_minor": 5
}
